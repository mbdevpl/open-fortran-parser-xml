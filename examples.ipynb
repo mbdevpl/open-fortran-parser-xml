{
 "cells": [
  {
   "cell_type": "markdown",
   "metadata": {},
   "source": [
    "# Open Fortran Parser XML wrapper examples"
   ]
  },
  {
   "cell_type": "markdown",
   "metadata": {},
   "source": [
    "These examples are for Python wrapper to the OFP XML. Run `ant` to build the OFP XML itself before executing them. "
   ]
  },
  {
   "cell_type": "code",
   "execution_count": 1,
   "metadata": {},
   "outputs": [],
   "source": [
    "import pathlib\n",
    "import tempfile\n",
    "import xml.etree.ElementTree as ET\n",
    "\n",
    "import open_fortran_parser"
   ]
  },
  {
   "cell_type": "code",
   "execution_count": 2,
   "metadata": {},
   "outputs": [
    {
     "name": "stdout",
     "output_type": "stream",
     "text": [
      "<ofp version=\"0.8.5-1\">\n",
      "  <file col_begin=\"6\" col_end=\"24\" line_begin=\"2\" line_end=\"8\" path=\"/home/mateusz/Projects/open-fortran-parser-xml/test/examples/empty.f\">\n",
      "    <start-of-file filename=\"test/examples/empty.f\" path=\"/home/mateusz/Projects/open-fortran-parser-xml/test/examples/empty.f\" rule=\"-2\" />\n",
      "    <comment col_begin=\"6\" col_end=\"36\" line_begin=\"2\" line_end=\"2\" text=\"! minimalistic Fortran program\" />\n",
      "    <program col_begin=\"6\" col_end=\"24\" line_begin=\"4\" line_end=\"8\" name=\"empty\">\n",
      "      <main-program__begin addendum=\"begin\" rule=\"1101\" />\n",
      "      <header />\n",
      "      <program-stmt col_begin=\"6\" col_end=\"20\" eos=\"&#10;\" id=\"empty\" line_begin=\"4\" line_end=\"4\" programKeyword=\"program\" rule=\"1102\" />\n",
      "      <body col_begin=\"6\" col_end=\"20\" line_begin=\"6\" line_end=\"6\">\n",
      "        <specification col_begin=\"6\" col_end=\"20\" declarations=\"0\" implicits=\"1\" imports=\"0\" line_begin=\"6\" line_end=\"6\" uses=\"0\">\n",
      "          <declaration col_begin=\"6\" col_end=\"20\" line_begin=\"6\" line_end=\"6\" subtype=\"none\" type=\"implicit\">\n",
      "            <implicit-stmt col_begin=\"6\" col_end=\"20\" eos=\"&#10;\" hasImplicitSpecList=\"false\" implicitKeyword=\"implicit\" line_begin=\"6\" line_end=\"6\" noneKeyword=\"none\" rule=\"549\" />\n",
      "          </declaration>\n",
      "          <declaration />\n",
      "          <specification-part numDeclConstructs=\"0\" numImplicitStmts=\"1\" numImportStmts=\"0\" numUseStmts=\"0\" rule=\"204\" />\n",
      "        </specification>\n",
      "        <statement />\n",
      "      </body>\n",
      "      <end-program-stmt col_begin=\"6\" col_end=\"24\" endKeyword=\"end\" eos=\"&#10;\" id=\"empty\" line_begin=\"8\" line_end=\"8\" programKeyword=\"program\" rule=\"1103\" />\n",
      "      <main-program hasExecutionPart=\"false\" hasInternalSubprogramPart=\"false\" hasProgramStmt=\"true\" rule=\"1101\" />\n",
      "    </program>\n",
      "    <end-of-file filename=\"test/examples/empty.f\" path=\"/home/mateusz/Projects/open-fortran-parser-xml/test/examples/empty.f\" rule=\"-2\" />\n",
      "  </file>\n",
      "</ofp>\n"
     ]
    }
   ],
   "source": [
    "xml_tree = open_fortran_parser.parse(pathlib.Path('test', 'examples', 'empty.f'))\n",
    "ET.dump(xml_tree)"
   ]
  },
  {
   "cell_type": "code",
   "execution_count": 3,
   "metadata": {
    "scrolled": true
   },
   "outputs": [
    {
     "name": "stdout",
     "output_type": "stream",
     "text": [
      "HowBadCanItBe\n"
     ]
    }
   ],
   "source": [
    "code = '''\n",
    "program HowBadCanItBe\n",
    "\n",
    "    goto main_sub3\n",
    "\n",
    "end program\n",
    "'''\n",
    "\n",
    "with tempfile.NamedTemporaryFile('w+') as tmp:\n",
    "    print(code, file=tmp, flush=True)\n",
    "    xml_tree = open_fortran_parser.parse(pathlib.Path(tmp.name), raise_on_error=True)\n",
    "\n",
    "for prog in xml_tree.findall('.//program'):\n",
    "    print(prog.attrib['name'])"
   ]
  }
 ],
 "metadata": {
  "kernelspec": {
   "display_name": "Python 3",
   "language": "python",
   "name": "python3"
  },
  "language_info": {
   "codemirror_mode": {
    "name": "ipython",
    "version": 3
   },
   "file_extension": ".py",
   "mimetype": "text/x-python",
   "name": "python",
   "nbconvert_exporter": "python",
   "pygments_lexer": "ipython3",
   "version": "3.8.0"
  }
 },
 "nbformat": 4,
 "nbformat_minor": 2
}
